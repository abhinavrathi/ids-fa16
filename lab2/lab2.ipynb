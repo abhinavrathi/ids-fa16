{
 "metadata": {
  "name": "",
  "signature": "sha256:a0ab08501ca438e4d31b298adab38c3c1cd709cc83d8ecc7c3c504f577f84c7e"
 },
 "nbformat": 3,
 "nbformat_minor": 0,
 "worksheets": [
  {
   "cells": [
    {
     "cell_type": "heading",
     "level": 1,
     "metadata": {},
     "source": [
      "Lab 2: Exploratory Data Analysis (Python, Pandas & matplotlib)"
     ]
    },
    {
     "cell_type": "markdown",
     "metadata": {},
     "source": [
      "In thie lab 2, we are going to learn how to explore data using Python. Namely, we will work with Pandas and matplotlib, for tabular data analysis and plotting, respectively. Provided VM is recommeded for this lab."
     ]
    },
    {
     "cell_type": "heading",
     "level": 2,
     "metadata": {},
     "source": [
      "Setup"
     ]
    },
    {
     "cell_type": "heading",
     "level": 4,
     "metadata": {},
     "source": [
      "This Notebook"
     ]
    },
    {
     "cell_type": "markdown",
     "metadata": {},
     "source": [
      "Download this [notebook](tbd) so you can edit it. (If you are viewing it via nbviewer.ipython.org, then use the link in the upper right corner.) To edit this notebook, in your VM terminal, type \"ipython notebook\" and in your prompted brower, click the notebook file to open and edit it."
     ]
    },
    {
     "cell_type": "heading",
     "level": 4,
     "metadata": {},
     "source": [
      "Data"
     ]
    },
    {
     "cell_type": "markdown",
     "metadata": {},
     "source": [
      "We'll use the sampled data from the log file in lab 1, download the file [here](tbd) and put it in your VM (To enable the 'Drag'n Drop' for ease of transfering files to/from VM, go to Device -> Drag 'n Drop -> Bidirectional)"
     ]
    },
    {
     "cell_type": "heading",
     "level": 2,
     "metadata": {},
     "source": [
      "Pandas"
     ]
    },
    {
     "cell_type": "markdown",
     "metadata": {},
     "source": [
      "The two main data structures used by pandas are\n",
      "\n",
      " * Series: one-dimensional collections of any data type.\n",
      " * DataFrames: two-dimensional data structures similar to a database table.\n",
      "\n",
      "At first, we need to import the libraries we need. In the python interpreters, we will import two libraries, pandas for data processing and PyLab for plotting.\n",
      "\n",
      "To run the code in the cell below, select the cell, then press 'ctrl + enter', or hit the 'play' button above."
     ]
    },
    {
     "cell_type": "code",
     "collapsed": false,
     "input": [
      "import pylab\n",
      "import pandas as pd"
     ],
     "language": "python",
     "metadata": {},
     "outputs": [],
     "prompt_number": 1
    },
    {
     "cell_type": "heading",
     "level": 2,
     "metadata": {},
     "source": [
      "The Basics"
     ]
    },
    {
     "cell_type": "markdown",
     "metadata": {},
     "source": [
      "To create our first DataFrame using pandas, run:"
     ]
    },
    {
     "cell_type": "code",
     "collapsed": false,
     "input": [
      "df = pd.DataFrame( { 'a' : [1, 2, 3, 4], 'b': [ 'w', 'x', 'y', 'z'] })"
     ],
     "language": "python",
     "metadata": {},
     "outputs": [],
     "prompt_number": 2
    },
    {
     "cell_type": "markdown",
     "metadata": {},
     "source": [
      "This is going to create a table with two columns and four rows, we can inspect the DataFrame in the interactive interpreter by typing the name on the object:"
     ]
    },
    {
     "cell_type": "code",
     "collapsed": false,
     "input": [
      "df"
     ],
     "language": "python",
     "metadata": {},
     "outputs": [
      {
       "html": [
        "<div style=\"max-height:1000px;max-width:1500px;overflow:auto;\">\n",
        "<table border=\"1\" class=\"dataframe\">\n",
        "  <thead>\n",
        "    <tr style=\"text-align: right;\">\n",
        "      <th></th>\n",
        "      <th>a</th>\n",
        "      <th>b</th>\n",
        "    </tr>\n",
        "  </thead>\n",
        "  <tbody>\n",
        "    <tr>\n",
        "      <th>0</th>\n",
        "      <td> 1</td>\n",
        "      <td> w</td>\n",
        "    </tr>\n",
        "    <tr>\n",
        "      <th>1</th>\n",
        "      <td> 2</td>\n",
        "      <td> x</td>\n",
        "    </tr>\n",
        "    <tr>\n",
        "      <th>2</th>\n",
        "      <td> 3</td>\n",
        "      <td> y</td>\n",
        "    </tr>\n",
        "    <tr>\n",
        "      <th>3</th>\n",
        "      <td> 4</td>\n",
        "      <td> z</td>\n",
        "    </tr>\n",
        "  </tbody>\n",
        "</table>\n",
        "</div>"
       ],
       "metadata": {},
       "output_type": "pyout",
       "prompt_number": 4,
       "text": [
        "   a  b\n",
        "0  1  w\n",
        "1  2  x\n",
        "2  3  y\n",
        "3  4  z"
       ]
      }
     ],
     "prompt_number": 4
    },
    {
     "cell_type": "markdown",
     "metadata": {},
     "source": [
      "For more detailed information about the schema of a DataFrame we can use the info function:"
     ]
    },
    {
     "cell_type": "code",
     "collapsed": false,
     "input": [
      "df.info()"
     ],
     "language": "python",
     "metadata": {},
     "outputs": [
      {
       "output_type": "stream",
       "stream": "stdout",
       "text": [
        "<class 'pandas.core.frame.DataFrame'>\n",
        "Int64Index: 4 entries, 0 to 3\n",
        "Data columns (total 2 columns):\n",
        "a    4 non-null int64\n",
        "b    4 non-null object\n",
        "dtypes: int64(1), object(1)"
       ]
      }
     ],
     "prompt_number": 5
    },
    {
     "cell_type": "markdown",
     "metadata": {},
     "source": [
      "To check the first few rows we can use head and the last few rows tail functions"
     ]
    },
    {
     "cell_type": "code",
     "collapsed": false,
     "input": [
      "df.head(2)"
     ],
     "language": "python",
     "metadata": {},
     "outputs": [
      {
       "html": [
        "<div style=\"max-height:1000px;max-width:1500px;overflow:auto;\">\n",
        "<table border=\"1\" class=\"dataframe\">\n",
        "  <thead>\n",
        "    <tr style=\"text-align: right;\">\n",
        "      <th></th>\n",
        "      <th>a</th>\n",
        "      <th>b</th>\n",
        "    </tr>\n",
        "  </thead>\n",
        "  <tbody>\n",
        "    <tr>\n",
        "      <th>0</th>\n",
        "      <td> 1</td>\n",
        "      <td> w</td>\n",
        "    </tr>\n",
        "    <tr>\n",
        "      <th>1</th>\n",
        "      <td> 2</td>\n",
        "      <td> x</td>\n",
        "    </tr>\n",
        "  </tbody>\n",
        "</table>\n",
        "</div>"
       ],
       "metadata": {},
       "output_type": "pyout",
       "prompt_number": 6,
       "text": [
        "   a  b\n",
        "0  1  w\n",
        "1  2  x"
       ]
      }
     ],
     "prompt_number": 6
    },
    {
     "cell_type": "markdown",
     "metadata": {},
     "source": [
      "df.tail(2)"
     ]
    },
    {
     "cell_type": "markdown",
     "metadata": {},
     "source": [
      "To access any range of rows in the DataFrame we can use array-like indexes, for example, the following will retrieve rows 1 and 2 from our DataFrame:"
     ]
    },
    {
     "cell_type": "code",
     "collapsed": false,
     "input": [
      "df[1:3]"
     ],
     "language": "python",
     "metadata": {},
     "outputs": [
      {
       "html": [
        "<div style=\"max-height:1000px;max-width:1500px;overflow:auto;\">\n",
        "<table border=\"1\" class=\"dataframe\">\n",
        "  <thead>\n",
        "    <tr style=\"text-align: right;\">\n",
        "      <th></th>\n",
        "      <th>a</th>\n",
        "      <th>b</th>\n",
        "    </tr>\n",
        "  </thead>\n",
        "  <tbody>\n",
        "    <tr>\n",
        "      <th>1</th>\n",
        "      <td> 2</td>\n",
        "      <td> x</td>\n",
        "    </tr>\n",
        "    <tr>\n",
        "      <th>2</th>\n",
        "      <td> 3</td>\n",
        "      <td> y</td>\n",
        "    </tr>\n",
        "  </tbody>\n",
        "</table>\n",
        "</div>"
       ],
       "metadata": {},
       "output_type": "pyout",
       "prompt_number": 7,
       "text": [
        "   a  b\n",
        "1  2  x\n",
        "2  3  y"
       ]
      }
     ],
     "prompt_number": 7
    },
    {
     "cell_type": "markdown",
     "metadata": {},
     "source": [
      "Pandas can also provide useful insights of numerical columns in a DataFrame. The function describe will provide information such as count, mean, standard deviation, etc."
     ]
    },
    {
     "cell_type": "code",
     "collapsed": false,
     "input": [
      "df.describe()"
     ],
     "language": "python",
     "metadata": {},
     "outputs": [
      {
       "html": [
        "<div style=\"max-height:1000px;max-width:1500px;overflow:auto;\">\n",
        "<table border=\"1\" class=\"dataframe\">\n",
        "  <thead>\n",
        "    <tr style=\"text-align: right;\">\n",
        "      <th></th>\n",
        "      <th>a</th>\n",
        "    </tr>\n",
        "  </thead>\n",
        "  <tbody>\n",
        "    <tr>\n",
        "      <th>count</th>\n",
        "      <td> 4.000000</td>\n",
        "    </tr>\n",
        "    <tr>\n",
        "      <th>mean</th>\n",
        "      <td> 2.500000</td>\n",
        "    </tr>\n",
        "    <tr>\n",
        "      <th>std</th>\n",
        "      <td> 1.290994</td>\n",
        "    </tr>\n",
        "    <tr>\n",
        "      <th>min</th>\n",
        "      <td> 1.000000</td>\n",
        "    </tr>\n",
        "    <tr>\n",
        "      <th>25%</th>\n",
        "      <td> 1.750000</td>\n",
        "    </tr>\n",
        "    <tr>\n",
        "      <th>50%</th>\n",
        "      <td> 2.500000</td>\n",
        "    </tr>\n",
        "    <tr>\n",
        "      <th>75%</th>\n",
        "      <td> 3.250000</td>\n",
        "    </tr>\n",
        "    <tr>\n",
        "      <th>max</th>\n",
        "      <td> 4.000000</td>\n",
        "    </tr>\n",
        "  </tbody>\n",
        "</table>\n",
        "</div>"
       ],
       "metadata": {},
       "output_type": "pyout",
       "prompt_number": 8,
       "text": [
        "              a\n",
        "count  4.000000\n",
        "mean   2.500000\n",
        "std    1.290994\n",
        "min    1.000000\n",
        "25%    1.750000\n",
        "50%    2.500000\n",
        "75%    3.250000\n",
        "max    4.000000"
       ]
      }
     ],
     "prompt_number": 8
    },
    {
     "cell_type": "markdown",
     "metadata": {},
     "source": [
      "For the following exercises we will use the dataset mentioned in setup.\n",
      "\n",
      "After you download this CSV file, we can import it into a DataFrame, assuming the file is in the path /home/datascience/"
     ]
    },
    {
     "cell_type": "code",
     "collapsed": false,
     "input": [
      "log_df = pd.read_csv(\"/home/datascience/wc_day6_1_sample.csv\",\n",
      "                     names=['ClientID', 'Date', 'Time', 'URL', 'ResponseCode', 'Size'],\n",
      "                     na_values=['-'])"
     ],
     "language": "python",
     "metadata": {},
     "outputs": [],
     "prompt_number": 9
    },
    {
     "cell_type": "markdown",
     "metadata": {},
     "source": [
      "Using read_csv function, we created a new DataFrame with column names passed as a list in the names parameter and null or non existing values represented with \"-\" in the na_values parameter."
     ]
    },
    {
     "cell_type": "heading",
     "level": 2,
     "metadata": {},
     "source": [
      "SQL-like operations"
     ]
    },
    {
     "cell_type": "heading",
     "level": 4,
     "metadata": {},
     "source": [
      "Selection"
     ]
    },
    {
     "cell_type": "markdown",
     "metadata": {},
     "source": [
      "To create row filters, such as the selection operation in relational algebra, we use lists of Boolean values that evaluate a condition:"
     ]
    },
    {
     "cell_type": "code",
     "collapsed": false,
     "input": [
      "is_may1st = log_df['Date'] == '01/May/1998'"
     ],
     "language": "python",
     "metadata": {},
     "outputs": [],
     "prompt_number": 10
    },
    {
     "cell_type": "markdown",
     "metadata": {},
     "source": [
      "This returns a list of True/False values for each row in **log_df** that evaluate the given condition. To filter using this list:"
     ]
    },
    {
     "cell_type": "code",
     "collapsed": false,
     "input": [
      "may1_df = log_df[is_may1st]"
     ],
     "language": "python",
     "metadata": {},
     "outputs": [],
     "prompt_number": 11
    },
    {
     "cell_type": "code",
     "collapsed": false,
     "input": [
      "len(may1_df)"
     ],
     "language": "python",
     "metadata": {},
     "outputs": [
      {
       "metadata": {},
       "output_type": "pyout",
       "prompt_number": 12,
       "text": [
        "183303"
       ]
      }
     ],
     "prompt_number": 12
    },
    {
     "cell_type": "markdown",
     "metadata": {},
     "source": [
      "This can be done more concisely:"
     ]
    },
    {
     "cell_type": "code",
     "collapsed": false,
     "input": [
      "may1_df = log_df[log_df['Date'] == '01/May/1998']"
     ],
     "language": "python",
     "metadata": {},
     "outputs": [],
     "prompt_number": 13
    },
    {
     "cell_type": "heading",
     "level": 4,
     "metadata": {},
     "source": [
      "Projection"
     ]
    },
    {
     "cell_type": "markdown",
     "metadata": {},
     "source": [
      "For column filters, such as the project operation in relational algebra, we use the name of the columns that we want to keep passes as a string array:"
     ]
    },
    {
     "cell_type": "code",
     "collapsed": false,
     "input": [
      "url_codes = log_df[['URL', 'ResponseCode']]"
     ],
     "language": "python",
     "metadata": {},
     "outputs": [],
     "prompt_number": 14
    },
    {
     "cell_type": "heading",
     "level": 4,
     "metadata": {},
     "source": [
      "Group By"
     ]
    },
    {
     "cell_type": "markdown",
     "metadata": {},
     "source": [
      "For grouping by a column, we use **groupby** which does not return a DataFrame but a DataFrameGroupBy object which is a dictionary-like object where keys are the grouping element and values are DataFrames corresponding to each element in the group.\n",
      "\n"
     ]
    },
    {
     "cell_type": "code",
     "collapsed": false,
     "input": [
      "grouped = log_df.groupby('ResponseCode')"
     ],
     "language": "python",
     "metadata": {},
     "outputs": [],
     "prompt_number": 15
    },
    {
     "cell_type": "code",
     "collapsed": false,
     "input": [
      "grouped.get_group(200)"
     ],
     "language": "python",
     "metadata": {},
     "outputs": [],
     "prompt_number": 17
    },
    {
     "cell_type": "code",
     "collapsed": false,
     "input": [
      "multi_grouped = log_df.groupby(['ResponseCode', 'Date'])"
     ],
     "language": "python",
     "metadata": {},
     "outputs": [],
     "prompt_number": 18
    },
    {
     "cell_type": "markdown",
     "metadata": {},
     "source": [
      "Similarly, we can apply operations to each group such as:"
     ]
    },
    {
     "cell_type": "code",
     "collapsed": false,
     "input": [
      "grouped.describe()"
     ],
     "language": "python",
     "metadata": {},
     "outputs": [],
     "prompt_number": 20
    },
    {
     "cell_type": "code",
     "collapsed": false,
     "input": [
      "grouped_sizes = grouped.size()\n",
      "# returns a panda Series(1-d array with the groupby value(s)as index, count of each group as data values.)"
     ],
     "language": "python",
     "metadata": {},
     "outputs": [],
     "prompt_number": 23
    },
    {
     "cell_type": "code",
     "collapsed": false,
     "input": [
      "grouped.sum(), grouped.mean(), grouped.median()"
     ],
     "language": "python",
     "metadata": {},
     "outputs": [],
     "prompt_number": 22
    },
    {
     "cell_type": "heading",
     "level": 4,
     "metadata": {},
     "source": [
      "Aggregate"
     ]
    },
    {
     "cell_type": "markdown",
     "metadata": {},
     "source": [
      "To apply aggregate functions, pandas use python's **lambda** functions to define the function, and **apply** to use the function."
     ]
    },
    {
     "cell_type": "code",
     "collapsed": false,
     "input": [
      "log_df['DateTime'] = pd.to_datetime(log_df.apply(lambda row: row['Date'] + ' ' + row['Time'], axis=1)) "
     ],
     "language": "python",
     "metadata": {},
     "outputs": [],
     "prompt_number": 25
    },
    {
     "cell_type": "markdown",
     "metadata": {},
     "source": [
      "The lambda function in this example, concatenates the date and time columns, the **axis** parameter indicate if the function will be applied to each row (1) or column(0). Finally, **to_datetime** transforms the string to dattime objects."
     ]
    },
    {
     "cell_type": "markdown",
     "metadata": {},
     "source": [
      "We can use the new column we added to group data:"
     ]
    },
    {
     "cell_type": "code",
     "collapsed": false,
     "input": [
      "hour_grouped = log_df.groupby(lambda x: log_df['DateTime'][x].hour)\n",
      "for hour, group in hour_grouped:\n",
      "    print hour\n",
      "    print len(group)"
     ],
     "language": "python",
     "metadata": {},
     "outputs": [],
     "prompt_number": 26
    },
    {
     "cell_type": "markdown",
     "metadata": {},
     "source": [
      "\n",
      "Note that you can apply operations on each group using apply."
     ]
    },
    {
     "cell_type": "heading",
     "level": 2,
     "metadata": {},
     "source": [
      "Visualization"
     ]
    },
    {
     "cell_type": "markdown",
     "metadata": {},
     "source": [
      "Our last task today will be to plot using PyLab (this step requires to have matplotlib and numpy installed, already installed in the virtual machine)"
     ]
    },
    {
     "cell_type": "code",
     "collapsed": false,
     "input": [
      "%matplotlib inline\n",
      "from numpy import random\n",
      "rand_df = pd.DataFrame({'a' : random.randn(100)})"
     ],
     "language": "python",
     "metadata": {},
     "outputs": [],
     "prompt_number": 27
    },
    {
     "cell_type": "code",
     "collapsed": false,
     "input": [
      "rand_df.plot()"
     ],
     "language": "python",
     "metadata": {},
     "outputs": [
      {
       "metadata": {},
       "output_type": "pyout",
       "prompt_number": 28,
       "text": [
        "<matplotlib.axes.AxesSubplot at 0x7f6314aa6950>"
       ]
      },
      {
       "metadata": {},
       "output_type": "display_data",
       "png": "[encoded data removed]",
       "text": [
        "<matplotlib.figure.Figure at 0x7f6313c0f350>"
       ]
      }
     ],
     "prompt_number": 28
    },
    {
     "cell_type": "code",
     "collapsed": false,
     "input": [
      "rand_df.hist()"
     ],
     "language": "python",
     "metadata": {},
     "outputs": [
      {
       "metadata": {},
       "output_type": "pyout",
       "prompt_number": 29,
       "text": [
        "array([[<matplotlib.axes.AxesSubplot object at 0x7f6310dfe3d0>]], dtype=object)"
       ]
      },
      {
       "metadata": {},
       "output_type": "display_data",
       "png": "[encoded data removed]",
       "text": [
        "<matplotlib.figure.Figure at 0x7f6310e09450>"
       ]
      }
     ],
     "prompt_number": 29
    },
    {
     "cell_type": "heading",
     "level": 2,
     "metadata": {},
     "source": [
      "Now it's your turn:"
     ]
    },
    {
     "cell_type": "heading",
     "level": 3,
     "metadata": {},
     "source": [
      "In-class quiz"
     ]
    },
    {
     "cell_type": "markdown",
     "metadata": {},
     "source": [
      "Go to the [link](tbd) to finish the in-class pop quiz based on this ipython notebook, the access code will be provided during the lab class."
     ]
    },
    {
     "cell_type": "heading",
     "level": 3,
     "metadata": {},
     "source": [
      "Homework"
     ]
    },
    {
     "cell_type": "markdown",
     "metadata": {},
     "source": [
      "Click [here](tbd) to access homework for this lab.\n",
      "\n",
      "Questions:\n",
      "1. Print the number of requests per client that had HTTP return code 404\n",
      "3. What is the average file size for images (.gif, .jpg and .jpeg files), which had response code 200? What is the standard deviation?\n",
      "4. Generate a plot of the number of users of the site every hour.\n",
      "5. We wish to see if there is any correlation between client-ids and hours of the day at which they visit the website. Get 100 client ids from the dataset and generate a scatter plot that shows the hours of the day these clients sent requests. Hint: df.plot(kind='scatter', x='a', y='b'); and df['Column'].unique()\n",
      "6. The log file used in the lab was from one day of the WorldCup. Lets apply our analysis to Jul/24 and Jul/25 in the logs. For this start with the raw log file under lab0-2 files and load it as a Pandas DataFrame. Repeat exercises 3 and 4 with it. How similar or different are the results? Hint: You can use UNIX command line tools from Lab 1 to first get a csv file and then load it into Pandas.\n"
     ]
    }
   ],
   "metadata": {}
  }
 ]
}
